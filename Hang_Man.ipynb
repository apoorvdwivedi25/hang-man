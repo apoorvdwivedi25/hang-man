{
  "nbformat": 4,
  "nbformat_minor": 0,
  "metadata": {
    "colab": {
      "provenance": [],
      "authorship_tag": "ABX9TyP1cyWa2bLX1Jxkt7cXP34S",
      "include_colab_link": true
    },
    "kernelspec": {
      "name": "python3",
      "display_name": "Python 3"
    },
    "language_info": {
      "name": "python"
    }
  },
  "cells": [
    {
      "cell_type": "markdown",
      "metadata": {
        "id": "view-in-github",
        "colab_type": "text"
      },
      "source": [
        "<a href=\"https://colab.research.google.com/github/apoorvdwivedi25/hang-man/blob/main/Hang_Man.ipynb\" target=\"_parent\"><img src=\"https://colab.research.google.com/assets/colab-badge.svg\" alt=\"Open In Colab\"/></a>"
      ]
    },
    {
      "cell_type": "code",
      "execution_count": null,
      "metadata": {
        "colab": {
          "base_uri": "https://localhost:8080/"
        },
        "id": "sn8W3ep2mzOH",
        "outputId": "ad9b3dbe-dbe2-4be5-93d5-c40adae4a542"
      },
      "outputs": [
        {
          "output_type": "stream",
          "name": "stdout",
          "text": [
            " \n",
            " _                                             \n",
            "| |                                            \n",
            "| |__   __ _ _ __   __ _ _ __ ___   __ _ _ __  \n",
            "| '_ \\ / _` | '_ \\ / _` | '_ ` _ \\ / _` | '_ \\ \n",
            "| | | | (_| | | | | (_| | | | | | | (_| | | | |\n",
            "|_| |_|\\__,_|_| |_|\\__, |_| |_| |_|\\__,_|_| |_|\n",
            "                    __/ |                      \n",
            "                   |___/    \n",
            "guess the alpha:a\n",
            "['_', '_', '_', '_', 'a', '_', '_', '_']\n",
            "\n",
            "  +---+\n",
            "  |   |\n",
            "      |\n",
            "      |\n",
            "      |\n",
            "      |\n",
            "=========\n",
            "\n"
          ]
        }
      ],
      "source": [
        "stages = ['''\n",
        "  +---+\n",
        "  |   |\n",
        "  O   |\n",
        " /|\\  |\n",
        " / \\  |\n",
        "      |\n",
        "=========\n",
        "''', '''\n",
        "  +---+\n",
        "  |   |\n",
        "  O   |\n",
        " /|\\  |\n",
        " /    |\n",
        "      |\n",
        "=========\n",
        "''', '''\n",
        "  +---+\n",
        "  |   |\n",
        "  O   |\n",
        " /|\\  |\n",
        "      |\n",
        "      |\n",
        "=========\n",
        "''', '''\n",
        "  +---+\n",
        "  |   |\n",
        "  O   |\n",
        " /|   |\n",
        "      |\n",
        "      |\n",
        "=========''', '''\n",
        "  +---+\n",
        "  |   |\n",
        "  O   |\n",
        "  |   |\n",
        "        |\n",
        "      |\n",
        "=========\n",
        "''', '''\n",
        "  +---+\n",
        "  |   |\n",
        "  O   |\n",
        "      |\n",
        "      |\n",
        "      |\n",
        "=========\n",
        "''', '''\n",
        "  +---+\n",
        "  |   |\n",
        "      |\n",
        "      |\n",
        "      |\n",
        "      |\n",
        "=========\n",
        "''']\n",
        "\n",
        "logo = '''\n",
        " _\n",
        "| |\n",
        "| |__   __ _ _ __   __ _ _ __ ___   __ _ _ __\n",
        "| '_ \\ / _` | '_ \\ / _` | '_ ` _ \\ / _` | '_ \\\n",
        "| | | | (_| | | | | (_| | | | | | | (_| | | | |\n",
        "|_| |_|\\__,_|_| |_|\\__, |_| |_| |_|\\__,_|_| |_|\n",
        "                    __/ |\n",
        "                   |___/    '''\n",
        "\n",
        "import random\n",
        "list=list=['abruptly', 'absurd', 'abyss', 'affix', 'askew', 'avenue', 'awkward', 'axiom', 'azure', 'bagpipes', 'bandwagon', 'banjo',\n",
        " 'bayou', 'beekeeper', 'bikini', 'blitz', 'blizzard', 'boggle','bookworm', 'boxcar', 'boxful', 'buckaroo', 'buffalo', 'buffoon', 'buxom',\n",
        "'buzzard', 'buzzing', 'buzzwords', 'caliph', 'cobweb', 'cockiness', 'croquet', 'crypt', 'curacao', 'cycle', 'daiquiri','disavow', 'dizzying',\n",
        " 'duplex', 'dwarves', 'embezzle', 'equip', 'espionage', 'euouae', 'exodus', 'faking',\n",
        " 'fishhook', 'fixable', 'fjord', 'flapjack', 'flopping', 'fluffiness', 'flyby', 'foxglove', 'frazzled','microsoft']\n",
        "r=random.choice(list)\n",
        "o=len(r)\n",
        "l=[]\n",
        "print(logo)\n",
        "lives=6\n",
        "for _ in range(0,o):\n",
        "    l += '_'\n",
        "end_of_game=False\n",
        "while not end_of_game:\n",
        "    guess= input(\"guess the alpha:\").lower()\n",
        "    for j in range(0,o):\n",
        "        d=r[j]\n",
        "        if d==guess:\n",
        "            l[j]=d\n",
        "    if guess not in r:\n",
        "        lives -= 1\n",
        "        if lives==0:\n",
        "            end_of_game= True\n",
        "            print(\"You Lose!!\")\n",
        "    print(l)\n",
        "    if \"_\" not in l:\n",
        "        end_of_game = True\n",
        "        print(\"You win!!\")\n",
        "    print(stages[lives])"
      ]
    }
  ]
}